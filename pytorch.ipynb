{
 "cells": [
  {
   "cell_type": "code",
   "execution_count": 3,
   "id": "563252dc",
   "metadata": {},
   "outputs": [
    {
     "ename": "NameError",
     "evalue": "name 'c' is not defined",
     "output_type": "error",
     "traceback": [
      "\u001b[0;31m---------------------------------------------------------------------------\u001b[0m",
      "\u001b[0;31mNameError\u001b[0m                                 Traceback (most recent call last)",
      "Input \u001b[0;32mIn [3]\u001b[0m, in \u001b[0;36m<cell line: 8>\u001b[0;34m()\u001b[0m\n\u001b[1;32m      6\u001b[0m a\u001b[38;5;241m=\u001b[39mx\u001b[38;5;241m*\u001b[39my\n\u001b[1;32m      7\u001b[0m b\u001b[38;5;241m=\u001b[39ma\u001b[38;5;241m+\u001b[39mz\n\u001b[0;32m----> 8\u001b[0m \u001b[43mc\u001b[49m\u001b[38;5;241m.\u001b[39mbackward()\n\u001b[1;32m      9\u001b[0m \u001b[38;5;28mprint\u001b[39m(c\u001b[38;5;241m.\u001b[39mgrad_fn)\n\u001b[1;32m     10\u001b[0m \u001b[38;5;28mprint\u001b[39m(x\u001b[38;5;241m.\u001b[39mdata)\n",
      "\u001b[0;31mNameError\u001b[0m: name 'c' is not defined"
     ]
    }
   ],
   "source": [
    "import torch\n",
    "N,D=3,4\n",
    "x=torch.rand((N,D),requires_grad=True)\n",
    "y=torch.rand((N,D),requires_grad=True)\n",
    "z=torch.rand((N,D),requires_grad=True)\n",
    "a=x*y\n",
    "b=a+z\n",
    "c.backward()\n",
    "print(c.grad_fn)\n",
    "print(x.data)\n",
    "print(x.grad)"
   ]
  },
  {
   "cell_type": "code",
   "execution_count": 3,
   "id": "2c2eee96",
   "metadata": {},
   "outputs": [
    {
     "name": "stdout",
     "output_type": "stream",
     "text": [
      "Collecting torch\n",
      "  Downloading torch-2.5.1-cp39-cp39-manylinux1_x86_64.whl (906.5 MB)\n",
      "\u001b[K     |████████████████████████████████| 906.5 MB 659 bytes/s a 0:00:01   |▍                               | 12.2 MB 3.1 MB/s eta 0:04:53     |▉                               | 23.7 MB 3.2 MB/s eta 0:04:36     |█                               | 25.7 MB 3.2 MB/s eta 0:04:35     |█▍                              | 39.9 MB 6.3 MB/s eta 0:02:18     |█▋                              | 46.5 MB 5.3 MB/s eta 0:02:43     |██▍                             | 67.1 MB 8.9 MB/s eta 0:01:35     |██▋                             | 73.2 MB 1.1 MB/s eta 0:12:19     |██▋                             | 75.4 MB 1.1 MB/s eta 0:12:18     |██▉                             | 81.5 MB 8.0 MB/s eta 0:01:44     |███                             | 81.9 MB 8.0 MB/s eta 0:01:44     |███                             | 83.9 MB 8.0 MB/s eta 0:01:44     |███                             | 84.3 MB 8.0 MB/s eta 0:01:44     |███                             | 86.2 MB 6.7 MB/s eta 0:02:03     |███▍                            | 95.7 MB 14.1 MB/s eta 0:00:58     |███▍                            | 96.2 MB 14.1 MB/s eta 0:00:58     |███▍                            | 97.5 MB 14.1 MB/s eta 0:00:58     |███▋                            | 103.8 MB 2.7 MB/s eta 0:04:56     |███▊                            | 105.3 MB 2.7 MB/s eta 0:04:55     |████▎                           | 122.5 MB 3.4 MB/s eta 0:03:53     |████▍                           | 124.9 MB 3.4 MB/s eta 0:03:52     |█████                           | 141.9 MB 490 kB/s eta 0:25:59     |█████                           | 141.9 MB 490 kB/s eta 0:25:59     |█████▍                          | 153.4 MB 2.5 MB/s eta 0:04:57     |█████▌                          | 156.9 MB 2.5 MB/s eta 0:04:55     |█████▊                          | 162.9 MB 6.4 MB/s eta 0:01:56     |█████▉                          | 164.1 MB 6.4 MB/s eta 0:01:56     |█████▉                          | 164.7 MB 6.4 MB/s eta 0:01:56     |█████▉                          | 166.2 MB 6.4 MB/s eta 0:01:56     |██████▌                         | 182.6 MB 7.9 MB/s eta 0:01:32     |██████▉                         | 194.7 MB 12.1 MB/s eta 0:00:59     |███████▍                        | 210.4 MB 16.6 MB/s eta 0:00:43               | 258.6 MB 5.2 MB/s eta 0:02:05     |█████████▌                      | 269.1 MB 30.4 MB/s eta 0:00:22     |█████████▌                      | 269.6 MB 30.4 MB/s eta 0:00:21     |█████████▋                      | 272.1 MB 30.4 MB/s eta 0:00:21     |█████████▋                      | 273.5 MB 30.4 MB/s eta 0:00:21MB/s eta 0:00:18█▏                    | 316.4 MB 34.7 MB/s eta 0:00:18     |███████████▍                    | 323.9 MB 1.7 MB/s eta 0:05:47     |████████████▍                   | 350.7 MB 46.1 MB/s eta 0:00:13     |█████████████                   | 368.7 MB 51.4 MB/s eta 0:00:11     |█████████████████▊              | 500.6 MB 1.4 MB/s eta 0:04:49     |█████████████████████████████▉  | 843.5 MB 53.8 MB/s eta 0:00:02\n",
      "\u001b[?25hCollecting nvidia-cudnn-cu12==9.1.0.70\n",
      "  Downloading nvidia_cudnn_cu12-9.1.0.70-py3-none-manylinux2014_x86_64.whl (664.8 MB)\n",
      "\u001b[K     |████████████████████████████████| 664.8 MB 1.4 kB/s  eta 0:00:01    |▊                               | 15.8 MB 6.8 MB/s eta 0:01:37     |█▋                              | 34.3 MB 4.2 MB/s eta 0:02:29     |██▌                             | 52.1 MB 1.2 MB/s eta 0:08:32         | 116.1 MB 609 kB/s eta 0:15:01     |████████                        | 165.5 MB 80 kB/s eta 1:43:15     |█████████                       | 185.2 MB 4.2 MB/s eta 0:01:55     |█████████                       | 186.4 MB 533 kB/s eta 0:14:57     |█████████                       | 188.6 MB 679 kB/s eta 0:11:42     |█████████                       | 188.8 MB 679 kB/s eta 0:11:41     |█████████▏                      | 191.2 MB 4.0 MB/s eta 0:01:59     |█████████▍                      | 195.3 MB 980 kB/s eta 0:07:59     |█████████▋                      | 198.7 MB 2.9 MB/s eta 0:02:41               | 201.2 MB 2.9 MB/s eta 0:02:40     |██████████                      | 206.8 MB 7.7 MB/s eta 0:01:00     |█████████████▌                  | 280.5 MB 3.3 MB/s eta 0:01:56     |██████████████▍                 | 298.1 MB 5.1 MB/s eta 0:01:13     |██████████████████████          | 458.6 MB 8.0 MB/s eta 0:00:26��████████▎    | 565.7 MB 2.6 MB/s eta 0:00:38    |█████████████████████████████▏  | 606.0 MB 2.7 MB/s eta 0:00:22\n",
      "\u001b[?25hRequirement already satisfied: networkx in ./anaconda3/lib/python3.9/site-packages (from torch) (2.7.1)\n",
      "Collecting nvidia-cuda-cupti-cu12==12.4.127\n",
      "  Downloading nvidia_cuda_cupti_cu12-12.4.127-py3-none-manylinux2014_x86_64.whl (13.8 MB)\n",
      "\u001b[K     |████████████████████████████████| 13.8 MB 477 kB/s eta 0:00:01\n",
      "\u001b[?25hCollecting nvidia-cuda-nvrtc-cu12==12.4.127\n",
      "  Downloading nvidia_cuda_nvrtc_cu12-12.4.127-py3-none-manylinux2014_x86_64.whl (24.6 MB)\n",
      "\u001b[K     |████████████████████████████████| 24.6 MB 8.2 MB/s eta 0:00:01\n",
      "\u001b[?25hCollecting nvidia-cuda-runtime-cu12==12.4.127\n",
      "  Downloading nvidia_cuda_runtime_cu12-12.4.127-py3-none-manylinux2014_x86_64.whl (883 kB)\n",
      "\u001b[K     |████████████████████████████████| 883 kB 9.3 MB/s eta 0:00:01\n",
      "\u001b[?25hCollecting nvidia-cusolver-cu12==11.6.1.9\n",
      "  Downloading nvidia_cusolver_cu12-11.6.1.9-py3-none-manylinux2014_x86_64.whl (127.9 MB)\n",
      "\u001b[K     |████████████████████████████████| 127.9 MB 30 kB/s s eta 0:00:01     |██████████████████████████▋     | 106.6 MB 15.3 MB/s eta 0:00:02\n",
      "\u001b[?25hCollecting nvidia-nvtx-cu12==12.4.127\n",
      "  Downloading nvidia_nvtx_cu12-12.4.127-py3-none-manylinux2014_x86_64.whl (99 kB)\n",
      "\u001b[K     |████████████████████████████████| 99 kB 403 kB/s eta 0:00:011\n",
      "\u001b[?25hCollecting typing-extensions>=4.8.0\n",
      "  Downloading typing_extensions-4.12.2-py3-none-any.whl (37 kB)\n",
      "Collecting sympy==1.13.1\n",
      "  Downloading sympy-1.13.1-py3-none-any.whl (6.2 MB)\n",
      "\u001b[K     |████████████████████████████████| 6.2 MB 36.2 MB/s eta 0:00:01\n",
      "\u001b[?25hCollecting triton==3.1.0\n",
      "  Downloading triton-3.1.0-cp39-cp39-manylinux_2_17_x86_64.manylinux2014_x86_64.whl (209.5 MB)\n",
      "\u001b[K     |████████████████████████████████| 209.5 MB 1.8 kB/s eta 0:00:011    |█████▎                          | 34.5 MB 16.4 MB/s eta 0:00:11     |███████▌                        | 49.4 MB 7.3 MB/s eta 0:00:22██████████▍                 | 94.1 MB 3.0 MB/s eta 0:00:39ta 0:00:38    |███████████████▊                | 102.8 MB 3.0 MB/s eta 0:00:36  | 107.8 MB 3.0 MB/s eta 0:00:34     |█████████████████▍              | 113.7 MB 479 kB/s eta 0:03:20     |█████████████████▋              | 115.0 MB 479 kB/s eta 0:03:17�██▋          | 141.4 MB 407 kB/s eta 0:02:48     |████████████████████████        | 156.6 MB 3.3 MB/s eta 0:00:16     |████████████████████████▍       | 159.3 MB 6.2 MB/s eta 0:00:09\n",
      "\u001b[?25hCollecting nvidia-cusparse-cu12==12.3.1.170\n",
      "  Downloading nvidia_cusparse_cu12-12.3.1.170-py3-none-manylinux2014_x86_64.whl (207.5 MB)\n",
      "\u001b[K     |████████████████████████████████| 207.5 MB 1.7 kB/s eta 0:00:011    |███████████▋                    | 75.2 MB 11.1 MB/s eta 0:00:12     |███████████████                 | 96.6 MB 5.4 MB/s eta 0:00:21     |██████████████████▋             | 120.6 MB 9.6 MB/s eta 0:00:10��██▌     | 171.8 MB 33.9 MB/s eta 0:00:02\n",
      "\u001b[?25hCollecting nvidia-cufft-cu12==11.2.1.3\n",
      "  Downloading nvidia_cufft_cu12-11.2.1.3-py3-none-manylinux2014_x86_64.whl (211.5 MB)\n",
      "\u001b[K     |████████████████████████████████| 211.5 MB 9.0 kB/s  eta 0:00:01\n",
      "\u001b[?25hRequirement already satisfied: jinja2 in ./anaconda3/lib/python3.9/site-packages (from torch) (2.11.3)\n",
      "Requirement already satisfied: fsspec in ./anaconda3/lib/python3.9/site-packages (from torch) (2022.2.0)\n",
      "Collecting nvidia-cublas-cu12==12.4.5.8\n",
      "  Downloading nvidia_cublas_cu12-12.4.5.8-py3-none-manylinux2014_x86_64.whl (363.4 MB)\n",
      "\u001b[K     |████████████████████████████████| 363.4 MB 1.0 kB/s eta 0:00:011    |███▎                            | 37.1 MB 11.2 MB/s eta 0:00:30        | 259.6 MB 18.1 MB/s eta 0:00:06\n",
      "\u001b[?25hCollecting nvidia-nccl-cu12==2.21.5\n",
      "  Downloading nvidia_nccl_cu12-2.21.5-py3-none-manylinux2014_x86_64.whl (188.7 MB)\n"
     ]
    },
    {
     "name": "stdout",
     "output_type": "stream",
     "text": [
      "\u001b[K     |██████▉                         | 40.1 MB 12.1 MB/s eta 0:00:13     |█████▉                          | 34.3 MB 12.1 MB/s eta 0:00:13\r",
      "\u001b[K     |██████▉                         | 40.1 MB 12.1 MB/s eta 0:00:13\r",
      "\u001b[K     |██████▉                         | 40.1 MB 12.1 MB/s eta 0:00:13\r",
      "\u001b[K     |██████▉                         | 40.1 MB 12.1 MB/s eta 0:00:13\r",
      "\u001b[K     |██████▉                         | 40.1 MB 12.1 MB/s eta 0:00:13\r",
      "\u001b[K     |██████▉                         | 40.1 MB 12.1 MB/s eta 0:00:13\r",
      "\u001b[K     |██████▉                         | 40.1 MB 12.1 MB/s eta 0:00:13\r",
      "\u001b[K     |██████▉                         | 40.1 MB 12.1 MB/s eta 0:00:13\r",
      "\u001b[K     |██████▉                         | 40.2 MB 12.1 MB/s eta 0:00:13\r",
      "\u001b[K     |██████▉                         | 40.2 MB 12.1 MB/s eta 0:00:13\r",
      "\u001b[K     |██████▉                         | 40.2 MB 12.1 MB/s eta 0:00:13\r",
      "\u001b[K     |██████▉                         | 40.2 MB 12.1 MB/s eta 0:00:13\r",
      "\u001b[K     |██████▉                         | 40.2 MB 12.1 MB/s eta 0:00:13\r",
      "\u001b[K     |██████▉                         | 40.2 MB 12.1 MB/s eta 0:00:13\r",
      "\u001b[K     |██████▉                         | 40.2 MB 12.1 MB/s eta 0:00:13\r",
      "\u001b[K     |██████▉                         | 40.2 MB 12.1 MB/s eta 0:00:13\r",
      "\u001b[K     |██████▉                         | 40.2 MB 12.1 MB/s eta 0:00:13\r",
      "\u001b[K     |██████▉                         | 40.2 MB 12.1 MB/s eta 0:00:13\r",
      "\u001b[K     |██████▉                         | 40.3 MB 12.1 MB/s eta 0:00:13\r",
      "\u001b[K     |██████▉                         | 40.3 MB 12.1 MB/s eta 0:00:13\r",
      "\u001b[K     |██████▉                         | 40.3 MB 12.1 MB/s eta 0:00:13\r",
      "\u001b[K     |██████▉                         | 40.3 MB 12.1 MB/s eta 0:00:13\r",
      "\u001b[K     |██████▉                         | 40.3 MB 12.1 MB/s eta 0:00:13\r",
      "\u001b[K     |██████▉                         | 40.3 MB 12.1 MB/s eta 0:00:13\r",
      "\u001b[K     |██████▉                         | 40.3 MB 12.1 MB/s eta 0:00:13\r",
      "\u001b[K     |██████▉                         | 40.3 MB 12.1 MB/s eta 0:00:13\r",
      "\u001b[K     |██████▉                         | 40.3 MB 12.1 MB/s eta 0:00:13\r",
      "\u001b[K     |██████▉                         | 40.3 MB 12.1 MB/s eta 0:00:13\r",
      "\u001b[K     |██████▉                         | 40.4 MB 12.1 MB/s eta 0:00:13\r",
      "\u001b[K     |██████▉                         | 40.4 MB 12.1 MB/s eta 0:00:13\r",
      "\u001b[K     |██████▉                         | 40.4 MB 12.1 MB/s eta 0:00:13\r",
      "\u001b[K     |██████▉                         | 40.4 MB 12.1 MB/s eta 0:00:13\r",
      "\u001b[K     |██████▉                         | 40.4 MB 12.1 MB/s eta 0:00:13\r",
      "\u001b[K     |██████▉                         | 40.4 MB 12.1 MB/s eta 0:00:13\r",
      "\u001b[K     |██████▉                         | 40.4 MB 12.1 MB/s eta 0:00:13\r",
      "\u001b[K     |██████▉                         | 40.4 MB 12.1 MB/s eta 0:00:13\r",
      "\u001b[K     |██████▉                         | 40.4 MB 12.1 MB/s eta 0:00:13\r",
      "\u001b[K     |██████▉                         | 40.4 MB 12.1 MB/s eta 0:00:13\r",
      "\u001b[K     |██████▉                         | 40.5 MB 12.1 MB/s eta 0:00:13\r",
      "\u001b[K     |██████▉                         | 40.5 MB 12.1 MB/s eta 0:00:13\r",
      "\u001b[K     |██████▉                         | 40.5 MB 12.1 MB/s eta 0:00:13\r",
      "\u001b[K     |██████▉                         | 40.5 MB 12.1 MB/s eta 0:00:13\r",
      "\u001b[K     |██████▉                         | 40.5 MB 12.1 MB/s eta 0:00:13\r",
      "\u001b[K     |██████▉                         | 40.5 MB 12.1 MB/s eta 0:00:13\r",
      "\u001b[K     |██████▉                         | 40.5 MB 12.1 MB/s eta 0:00:13\r",
      "\u001b[K     |██████▉                         | 40.5 MB 12.1 MB/s eta 0:00:13\r",
      "\u001b[K     |██████▉                         | 40.5 MB 12.1 MB/s eta 0:00:13\r",
      "\u001b[K     |██████▉                         | 40.6 MB 12.1 MB/s eta 0:00:13\r",
      "\u001b[K     |██████▉                         | 40.6 MB 12.1 MB/s eta 0:00:13\r",
      "\u001b[K     |██████▉                         | 40.6 MB 12.1 MB/s eta 0:00:13\r",
      "\u001b[K     |██████▉                         | 40.6 MB 12.1 MB/s eta 0:00:13\r",
      "\u001b[K     |██████▉                         | 40.6 MB 12.1 MB/s eta 0:00:13\r",
      "\u001b[K     |██████▉                         | 40.6 MB 12.1 MB/s eta 0:00:13\r",
      "\u001b[K     |██████▉                         | 40.6 MB 12.1 MB/s eta 0:00:13\r",
      "\u001b[K     |███████                         | 40.6 MB 12.1 MB/s eta 0:00:13\r",
      "\u001b[K     |███████                         | 40.6 MB 12.1 MB/s eta 0:00:13\r",
      "\u001b[K     |███████                         | 40.6 MB 12.1 MB/s eta 0:00:13\r",
      "\u001b[K     |███████                         | 40.7 MB 12.1 MB/s eta 0:00:13\r",
      "\u001b[K     |███████                         | 40.7 MB 12.1 MB/s eta 0:00:13\r",
      "\u001b[K     |███████                         | 40.7 MB 12.1 MB/s eta 0:00:13\r",
      "\u001b[K     |███████                         | 40.7 MB 12.1 MB/s eta 0:00:13\r",
      "\u001b[K     |███████                         | 40.7 MB 12.1 MB/s eta 0:00:13\r",
      "\u001b[K     |███████                         | 40.7 MB 12.1 MB/s eta 0:00:13\r",
      "\u001b[K     |███████                         | 40.7 MB 12.1 MB/s eta 0:00:13\r",
      "\u001b[K     |███████                         | 40.7 MB 12.1 MB/s eta 0:00:13\r",
      "\u001b[K     |███████                         | 40.7 MB 12.1 MB/s eta 0:00:13\r",
      "\u001b[K     |███████                         | 40.7 MB 12.1 MB/s eta 0:00:13\r",
      "\u001b[K     |███████                         | 40.8 MB 12.1 MB/s eta 0:00:13\r",
      "\u001b[K     |███████                         | 40.8 MB 12.1 MB/s eta 0:00:13\r",
      "\u001b[K     |███████                         | 40.8 MB 12.1 MB/s eta 0:00:13\r",
      "\u001b[K     |███████                         | 40.8 MB 12.1 MB/s eta 0:00:13\r",
      "\u001b[K     |███████                         | 40.8 MB 12.1 MB/s eta 0:00:13\r",
      "\u001b[K     |███████                         | 40.8 MB 12.1 MB/s eta 0:00:13\r",
      "\u001b[K     |███████                         | 40.8 MB 12.1 MB/s eta 0:00:13\r",
      "\u001b[K     |███████                         | 40.8 MB 12.1 MB/s eta 0:00:13\r",
      "\u001b[K     |███████                         | 40.8 MB 12.1 MB/s eta 0:00:13\r",
      "\u001b[K     |███████                         | 40.8 MB 12.1 MB/s eta 0:00:13\r",
      "\u001b[K     |███████                         | 40.9 MB 12.1 MB/s eta 0:00:13\r",
      "\u001b[K     |███████                         | 40.9 MB 12.1 MB/s eta 0:00:13\r",
      "\u001b[K     |███████                         | 40.9 MB 12.1 MB/s eta 0:00:13\r",
      "\u001b[K     |███████                         | 40.9 MB 12.1 MB/s eta 0:00:13\r",
      "\u001b[K     |███████                         | 40.9 MB 12.1 MB/s eta 0:00:13\r",
      "\u001b[K     |███████                         | 40.9 MB 12.1 MB/s eta 0:00:13\r",
      "\u001b[K     |███████                         | 40.9 MB 12.1 MB/s eta 0:00:13\r",
      "\u001b[K     |███████                         | 40.9 MB 12.1 MB/s eta 0:00:13\r",
      "\u001b[K     |███████                         | 40.9 MB 12.1 MB/s eta 0:00:13\r",
      "\u001b[K     |███████                         | 40.9 MB 12.1 MB/s eta 0:00:13\r",
      "\u001b[K     |███████                         | 41.0 MB 12.1 MB/s eta 0:00:13\r",
      "\u001b[K     |███████                         | 41.0 MB 12.1 MB/s eta 0:00:13\r",
      "\u001b[K     |███████                         | 41.0 MB 12.1 MB/s eta 0:00:13\r",
      "\u001b[K     |███████                         | 41.0 MB 12.1 MB/s eta 0:00:13\r",
      "\u001b[K     |███████                         | 41.0 MB 12.1 MB/s eta 0:00:13\r",
      "\u001b[K     |███████                         | 41.0 MB 12.1 MB/s eta 0:00:13\r",
      "\u001b[K     |███████                         | 41.0 MB 12.1 MB/s eta 0:00:13\r",
      "\u001b[K     |███████                         | 41.0 MB 12.1 MB/s eta 0:00:13\r",
      "\u001b[K     |███████                         | 41.0 MB 12.1 MB/s eta 0:00:13\r",
      "\u001b[K     |███████                         | 41.1 MB 12.1 MB/s eta 0:00:13\r",
      "\u001b[K     |███████                         | 41.1 MB 12.1 MB/s eta 0:00:13\r",
      "\u001b[K     |███████                         | 41.1 MB 12.1 MB/s eta 0:00:13\r",
      "\u001b[K     |███████                         | 41.1 MB 12.1 MB/s eta 0:00:13\r",
      "\u001b[K     |███████                         | 41.1 MB 12.1 MB/s eta 0:00:13\r",
      "\u001b[K     |███████                         | 41.1 MB 12.1 MB/s eta 0:00:13\r",
      "\u001b[K     |███████                         | 41.1 MB 12.1 MB/s eta 0:00:13\r",
      "\u001b[K     |███████                         | 41.1 MB 12.1 MB/s eta 0:00:13\r",
      "\u001b[K     |███████                         | 41.1 MB 12.1 MB/s eta 0:00:13\r",
      "\u001b[K     |███████                         | 41.1 MB 12.1 MB/s eta 0:00:13\r",
      "\u001b[K     |███████                         | 41.2 MB 12.1 MB/s eta 0:00:13\r",
      "\u001b[K     |███████                         | 41.2 MB 12.1 MB/s eta 0:00:13\r",
      "\u001b[K     |███████                         | 41.2 MB 12.1 MB/s eta 0:00:13\r",
      "\u001b[K     |███████                         | 41.2 MB 12.1 MB/s eta 0:00:13\r",
      "\u001b[K     |███████                         | 41.2 MB 12.1 MB/s eta 0:00:13\r",
      "\u001b[K     |███████                         | 41.2 MB 12.1 MB/s eta 0:00:13\r",
      "\u001b[K     |███████                         | 41.2 MB 12.1 MB/s eta 0:00:13\r",
      "\u001b[K     |███████                         | 41.2 MB 12.1 MB/s eta 0:00:13\r",
      "\u001b[K     |███████                         | 41.2 MB 12.1 MB/s eta 0:00:13"
     ]
    },
    {
     "name": "stdout",
     "output_type": "stream",
     "text": [
      "\r",
      "\u001b[K     |███████                         | 41.2 MB 12.1 MB/s eta 0:00:13\r",
      "\u001b[K     |███████                         | 41.3 MB 12.1 MB/s eta 0:00:13\r",
      "\u001b[K     |███████                         | 41.3 MB 12.1 MB/s eta 0:00:13\r",
      "\u001b[K     |███████                         | 41.3 MB 12.1 MB/s eta 0:00:13\r",
      "\u001b[K     |███████                         | 41.3 MB 12.1 MB/s eta 0:00:13\r",
      "\u001b[K     |███████                         | 41.3 MB 12.1 MB/s eta 0:00:13\r",
      "\u001b[K     |███████                         | 41.3 MB 12.1 MB/s eta 0:00:13\r",
      "\u001b[K     |███████                         | 41.3 MB 12.1 MB/s eta 0:00:13\r",
      "\u001b[K     |███████                         | 41.3 MB 12.1 MB/s eta 0:00:13\r",
      "\u001b[K     |███████                         | 41.3 MB 12.1 MB/s eta 0:00:13\r",
      "\u001b[K     |███████                         | 41.3 MB 12.1 MB/s eta 0:00:13\r",
      "\u001b[K     |███████                         | 41.4 MB 12.1 MB/s eta 0:00:13\r",
      "\u001b[K     |███████                         | 41.4 MB 12.1 MB/s eta 0:00:13\r",
      "\u001b[K     |███████                         | 41.4 MB 12.1 MB/s eta 0:00:13\r",
      "\u001b[K     |███████                         | 41.4 MB 12.1 MB/s eta 0:00:13\r",
      "\u001b[K     |███████                         | 41.4 MB 12.1 MB/s eta 0:00:13\r",
      "\u001b[K     |███████                         | 41.4 MB 12.1 MB/s eta 0:00:13\r",
      "\u001b[K     |███████                         | 41.4 MB 12.1 MB/s eta 0:00:13\r",
      "\u001b[K     |███████                         | 41.4 MB 12.1 MB/s eta 0:00:13\r",
      "\u001b[K     |███████                         | 41.4 MB 12.1 MB/s eta 0:00:13\r",
      "\u001b[K     |███████                         | 41.5 MB 12.1 MB/s eta 0:00:13\r",
      "\u001b[K     |███████                         | 41.5 MB 12.1 MB/s eta 0:00:13\r",
      "\u001b[K     |███████                         | 41.5 MB 12.1 MB/s eta 0:00:13\r",
      "\u001b[K     |███████                         | 41.5 MB 12.1 MB/s eta 0:00:13\r",
      "\u001b[K     |███████                         | 41.5 MB 12.1 MB/s eta 0:00:13\r",
      "\u001b[K     |███████                         | 41.5 MB 12.1 MB/s eta 0:00:13\r",
      "\u001b[K     |███████                         | 41.5 MB 12.1 MB/s eta 0:00:13\r",
      "\u001b[K     |███████                         | 41.5 MB 12.1 MB/s eta 0:00:13\r",
      "\u001b[K     |███████                         | 41.5 MB 12.1 MB/s eta 0:00:13\r",
      "\u001b[K     |███████                         | 41.5 MB 12.1 MB/s eta 0:00:13\r",
      "\u001b[K     |███████                         | 41.6 MB 12.1 MB/s eta 0:00:13\r",
      "\u001b[K     |███████                         | 41.6 MB 12.1 MB/s eta 0:00:13\r",
      "\u001b[K     |███████                         | 41.6 MB 12.1 MB/s eta 0:00:13\r",
      "\u001b[K     |███████                         | 41.6 MB 12.1 MB/s eta 0:00:13\r",
      "\u001b[K     |███████                         | 41.6 MB 12.1 MB/s eta 0:00:13\r",
      "\u001b[K     |███████                         | 41.6 MB 12.1 MB/s eta 0:00:13\r",
      "\u001b[K     |███████                         | 41.6 MB 12.1 MB/s eta 0:00:13\r",
      "\u001b[K     |███████                         | 41.6 MB 12.1 MB/s eta 0:00:13\r",
      "\u001b[K     |███████                         | 41.6 MB 12.1 MB/s eta 0:00:13\r",
      "\u001b[K     |███████                         | 41.6 MB 12.1 MB/s eta 0:00:13\r",
      "\u001b[K     |███████                         | 41.7 MB 12.1 MB/s eta 0:00:13\r",
      "\u001b[K     |███████                         | 41.7 MB 12.1 MB/s eta 0:00:13\r",
      "\u001b[K     |███████                         | 41.7 MB 12.1 MB/s eta 0:00:13\r",
      "\u001b[K     |███████                         | 41.7 MB 12.1 MB/s eta 0:00:13\r",
      "\u001b[K     |███████                         | 41.7 MB 12.1 MB/s eta 0:00:13\r",
      "\u001b[K     |███████                         | 41.7 MB 12.1 MB/s eta 0:00:13\r",
      "\u001b[K     |███████                         | 41.7 MB 12.1 MB/s eta 0:00:13\r",
      "\u001b[K     |███████                         | 41.7 MB 12.1 MB/s eta 0:00:13\r",
      "\u001b[K     |███████                         | 41.7 MB 12.1 MB/s eta 0:00:13\r",
      "\u001b[K     |███████                         | 41.7 MB 12.1 MB/s eta 0:00:13\r",
      "\u001b[K     |███████                         | 41.8 MB 12.1 MB/s eta 0:00:13\r",
      "\u001b[K     |███████                         | 41.8 MB 12.1 MB/s eta 0:00:13\r",
      "\u001b[K     |███████                         | 41.8 MB 12.1 MB/s eta 0:00:13\r",
      "\u001b[K     |███████                         | 41.8 MB 12.1 MB/s eta 0:00:13\r",
      "\u001b[K     |███████                         | 41.8 MB 12.1 MB/s eta 0:00:13\r",
      "\u001b[K     |███████                         | 41.8 MB 12.1 MB/s eta 0:00:13\r",
      "\u001b[K     |███████                         | 41.8 MB 12.1 MB/s eta 0:00:13\r",
      "\u001b[K     |███████                         | 41.8 MB 12.1 MB/s eta 0:00:13\r",
      "\u001b[K     |███████                         | 41.8 MB 12.1 MB/s eta 0:00:13\r",
      "\u001b[K     |███████                         | 41.9 MB 12.1 MB/s eta 0:00:13\r",
      "\u001b[K     |███████                         | 41.9 MB 12.1 MB/s eta 0:00:13\r",
      "\u001b[K     |███████                         | 41.9 MB 12.1 MB/s eta 0:00:13\r",
      "\u001b[K     |███████                         | 41.9 MB 12.1 MB/s eta 0:00:13\r",
      "\u001b[K     |███████                         | 41.9 MB 12.1 MB/s eta 0:00:13\r",
      "\u001b[K     |███████                         | 41.9 MB 12.1 MB/s eta 0:00:13\r",
      "\u001b[K     |███████                         | 41.9 MB 12.1 MB/s eta 0:00:13\r",
      "\u001b[K     |███████                         | 41.9 MB 12.1 MB/s eta 0:00:13\r",
      "\u001b[K     |███████▏                        | 41.9 MB 12.1 MB/s eta 0:00:13\r",
      "\u001b[K     |███████▏                        | 41.9 MB 12.1 MB/s eta 0:00:13\r",
      "\u001b[K     |███████▏                        | 42.0 MB 12.1 MB/s eta 0:00:13\r",
      "\u001b[K     |███████▏                        | 42.0 MB 12.1 MB/s eta 0:00:13\r",
      "\u001b[K     |███████▏                        | 42.0 MB 12.1 MB/s eta 0:00:13\r",
      "\u001b[K     |███████▏                        | 42.0 MB 12.1 MB/s eta 0:00:13\r",
      "\u001b[K     |███████▏                        | 42.0 MB 12.1 MB/s eta 0:00:13\r",
      "\u001b[K     |███████▏                        | 42.0 MB 12.1 MB/s eta 0:00:13\r",
      "\u001b[K     |███████▏                        | 42.0 MB 12.1 MB/s eta 0:00:13\r",
      "\u001b[K     |███████▏                        | 42.0 MB 12.1 MB/s eta 0:00:13\r",
      "\u001b[K     |███████▏                        | 42.0 MB 12.1 MB/s eta 0:00:13\r",
      "\u001b[K     |███████▏                        | 42.0 MB 12.1 MB/s eta 0:00:13\r",
      "\u001b[K     |███████▏                        | 42.1 MB 12.1 MB/s eta 0:00:13\r",
      "\u001b[K     |███████▏                        | 42.1 MB 12.1 MB/s eta 0:00:13\r",
      "\u001b[K     |███████▏                        | 42.1 MB 12.1 MB/s eta 0:00:13\r",
      "\u001b[K     |███████▏                        | 42.1 MB 12.1 MB/s eta 0:00:13\r",
      "\u001b[K     |███████▏                        | 42.1 MB 12.1 MB/s eta 0:00:13\r",
      "\u001b[K     |███████▏                        | 42.1 MB 12.1 MB/s eta 0:00:13\r",
      "\u001b[K     |███████▏                        | 42.1 MB 12.1 MB/s eta 0:00:13\r",
      "\u001b[K     |███████▏                        | 42.1 MB 12.1 MB/s eta 0:00:13\r",
      "\u001b[K     |███████▏                        | 42.1 MB 12.1 MB/s eta 0:00:13\r",
      "\u001b[K     |███████▏                        | 42.1 MB 12.1 MB/s eta 0:00:13\r",
      "\u001b[K     |███████▏                        | 42.2 MB 12.1 MB/s eta 0:00:13\r",
      "\u001b[K     |███████▏                        | 42.2 MB 12.1 MB/s eta 0:00:13\r",
      "\u001b[K     |███████▏                        | 42.2 MB 12.1 MB/s eta 0:00:13\r",
      "\u001b[K     |███████▏                        | 42.2 MB 12.1 MB/s eta 0:00:13\r",
      "\u001b[K     |███████▏                        | 42.2 MB 12.1 MB/s eta 0:00:13\r",
      "\u001b[K     |███████▏                        | 42.2 MB 12.1 MB/s eta 0:00:13\r",
      "\u001b[K     |███████▏                        | 42.2 MB 12.1 MB/s eta 0:00:13\r",
      "\u001b[K     |███████▏                        | 42.2 MB 12.1 MB/s eta 0:00:13\r",
      "\u001b[K     |███████▏                        | 42.2 MB 12.1 MB/s eta 0:00:13\r",
      "\u001b[K     |███████▏                        | 42.3 MB 12.1 MB/s eta 0:00:13\r",
      "\u001b[K     |███████▏                        | 42.3 MB 12.1 MB/s eta 0:00:13\r",
      "\u001b[K     |███████▏                        | 42.3 MB 12.1 MB/s eta 0:00:13\r",
      "\u001b[K     |███████▏                        | 42.3 MB 12.1 MB/s eta 0:00:13\r",
      "\u001b[K     |███████▏                        | 42.3 MB 12.1 MB/s eta 0:00:13\r",
      "\u001b[K     |███████▏                        | 42.3 MB 12.1 MB/s eta 0:00:13\r",
      "\u001b[K     |███████▏                        | 42.3 MB 12.1 MB/s eta 0:00:13\r",
      "\u001b[K     |███████▏                        | 42.3 MB 12.1 MB/s eta 0:00:13\r",
      "\u001b[K     |███████▏                        | 42.3 MB 12.1 MB/s eta 0:00:13\r",
      "\u001b[K     |███████▏                        | 42.3 MB 12.1 MB/s eta 0:00:13\r",
      "\u001b[K     |███████▏                        | 42.4 MB 12.1 MB/s eta 0:00:13\r",
      "\u001b[K     |███████▏                        | 42.4 MB 12.1 MB/s eta 0:00:13\r",
      "\u001b[K     |███████▏                        | 42.4 MB 12.1 MB/s eta 0:00:13\r",
      "\u001b[K     |███████▏                        | 42.4 MB 12.1 MB/s eta 0:00:13\r",
      "\u001b[K     |███████▏                        | 42.4 MB 12.1 MB/s eta 0:00:13\r",
      "\u001b[K     |███████▏                        | 42.4 MB 12.1 MB/s eta 0:00:13\r",
      "\u001b[K     |███████▏                        | 42.4 MB 12.1 MB/s eta 0:00:13\r",
      "\u001b[K     |███████▏                        | 42.4 MB 12.1 MB/s eta 0:00:13"
     ]
    },
    {
     "name": "stdout",
     "output_type": "stream",
     "text": [
      "\u001b[K     |████████████████████████████████| 188.7 MB 3.7 kB/s eta 0:00:012\n",
      "\u001b[?25hCollecting nvidia-nvjitlink-cu12==12.4.127\n",
      "  Downloading nvidia_nvjitlink_cu12-12.4.127-py3-none-manylinux2014_x86_64.whl (21.1 MB)\n",
      "\u001b[K     |████████████████████████████████| 21.1 MB 39 kB/s s eta 0:00:01\n",
      "\u001b[?25hRequirement already satisfied: filelock in ./anaconda3/lib/python3.9/site-packages (from torch) (3.16.1)\n",
      "Collecting nvidia-curand-cu12==10.3.5.147\n",
      "  Downloading nvidia_curand_cu12-10.3.5.147-py3-none-manylinux2014_x86_64.whl (56.3 MB)\n",
      "\u001b[K     |████████████████████████████████| 56.3 MB 43 kB/s  eta 0:00:012\n",
      "\u001b[?25hRequirement already satisfied: mpmath<1.4,>=1.1.0 in ./anaconda3/lib/python3.9/site-packages (from sympy==1.13.1->torch) (1.2.1)\n",
      "Requirement already satisfied: MarkupSafe>=0.23 in ./anaconda3/lib/python3.9/site-packages (from jinja2->torch) (2.0.1)\n",
      "Installing collected packages: nvidia-nvjitlink-cu12, nvidia-cusparse-cu12, nvidia-cublas-cu12, typing-extensions, triton, sympy, nvidia-nvtx-cu12, nvidia-nccl-cu12, nvidia-cusolver-cu12, nvidia-curand-cu12, nvidia-cufft-cu12, nvidia-cudnn-cu12, nvidia-cuda-runtime-cu12, nvidia-cuda-nvrtc-cu12, nvidia-cuda-cupti-cu12, torch\n",
      "  Attempting uninstall: typing-extensions\n",
      "    Found existing installation: typing-extensions 4.1.1\n",
      "    Uninstalling typing-extensions-4.1.1:\n",
      "      Successfully uninstalled typing-extensions-4.1.1\n",
      "  Attempting uninstall: sympy\n",
      "    Found existing installation: sympy 1.10.1\n",
      "    Uninstalling sympy-1.10.1:\n",
      "      Successfully uninstalled sympy-1.10.1\n",
      "\u001b[31mERROR: pip's dependency resolver does not currently take into account all the packages that are installed. This behaviour is the source of the following dependency conflicts.\n",
      "tensorflow 2.16.1 requires numpy<2.0.0,>=1.23.5; python_version <= \"3.11\", but you have numpy 1.22.4 which is incompatible.\u001b[0m\n",
      "Successfully installed nvidia-cublas-cu12-12.4.5.8 nvidia-cuda-cupti-cu12-12.4.127 nvidia-cuda-nvrtc-cu12-12.4.127 nvidia-cuda-runtime-cu12-12.4.127 nvidia-cudnn-cu12-9.1.0.70 nvidia-cufft-cu12-11.2.1.3 nvidia-curand-cu12-10.3.5.147 nvidia-cusolver-cu12-11.6.1.9 nvidia-cusparse-cu12-12.3.1.170 nvidia-nccl-cu12-2.21.5 nvidia-nvjitlink-cu12-12.4.127 nvidia-nvtx-cu12-12.4.127 sympy-1.13.1 torch-2.5.1 triton-3.1.0 typing-extensions-4.12.2\n",
      "Note: you may need to restart the kernel to use updated packages.\n"
     ]
    }
   ],
   "source": [
    "pip install torch"
   ]
  },
  {
   "cell_type": "code",
   "execution_count": 1,
   "id": "9e511ab3",
   "metadata": {},
   "outputs": [
    {
     "name": "stdout",
     "output_type": "stream",
     "text": [
      "2.5.1+cu124\n"
     ]
    }
   ],
   "source": [
    "import torch\n",
    "print(torch.__version__)"
   ]
  },
  {
   "cell_type": "code",
   "execution_count": 4,
   "id": "7c15d10b",
   "metadata": {},
   "outputs": [
    {
     "name": "stdout",
     "output_type": "stream",
     "text": [
      "Grad function of c: <SumBackward0 object at 0x7fc2771a2d30>\n",
      "x data: tensor([[0.7913, 0.6761, 0.7192, 0.5279],\n",
      "        [0.0417, 0.8356, 0.0017, 0.5646],\n",
      "        [0.6172, 0.8762, 0.5585, 0.4846]])\n",
      "x gradient: tensor([[0.7023, 0.6059, 0.0382, 0.1099],\n",
      "        [0.1048, 0.3006, 0.8971, 0.7680],\n",
      "        [0.7280, 0.4910, 0.7207, 0.5796]])\n"
     ]
    }
   ],
   "source": [
    "import torch\n",
    "\n",
    "# Define dimensions and tensors\n",
    "N, D = 3, 4\n",
    "x = torch.rand((N, D), requires_grad=True)\n",
    "y = torch.rand((N, D), requires_grad=True)\n",
    "z = torch.rand((N, D), requires_grad=True)\n",
    "\n",
    "# Perform operations\n",
    "a = x * y\n",
    "b = a + z\n",
    "c = b.sum()  # Make c a scalar to call .backward()\n",
    "\n",
    "# Backward pass\n",
    "c.backward()\n",
    "\n",
    "# Print information\n",
    "print(\"Grad function of c:\", c.grad_fn)\n",
    "print(\"x data:\", x.data)\n",
    "print(\"x gradient:\", x.grad)\n"
   ]
  },
  {
   "cell_type": "code",
   "execution_count": 11,
   "id": "9f53e0fe",
   "metadata": {},
   "outputs": [
    {
     "name": "stdout",
     "output_type": "stream",
     "text": [
      "tensor([[1., 2.],\n",
      "        [3., 4.]])\n",
      "tensor([[-2.5474e-13,  3.0711e-41,  1.0047e-01],\n",
      "        [ 3.4009e-01,  8.9683e-44,  0.0000e+00]])\n",
      "tensor([[-0.8039,  0.1507, -0.4697],\n",
      "        [ 0.6220,  0.3206,  0.3976]])\n",
      "tensor([[0.4859, 0.9915, 0.1247],\n",
      "        [0.2859, 0.6191, 0.0590]])\n",
      "tensor([[0., 0., 0.],\n",
      "        [0., 0., 0.]])\n"
     ]
    }
   ],
   "source": [
    "import torch\n",
    "new_tensor=torch.Tensor([[1,2],[3,4]])\n",
    "empty_tensor=torch.Tensor(2,3)\n",
    "uniform_tensor=torch.Tensor(2,3).uniform_(-1,1)\n",
    "rand_tensor=torch.rand(2,3)\n",
    "zero_tensor=torch.zeros(2,3)\n",
    "print(new_tensor)\n",
    "print(empty_tensor)\n",
    "print(uniform_tensor)\n",
    "print(rand_tensor)\n",
    "print(zero_tensor)"
   ]
  },
  {
   "cell_type": "code",
   "execution_count": 14,
   "id": "69ab1de3",
   "metadata": {},
   "outputs": [
    {
     "data": {
      "text/plain": [
       "torch.Size([])"
      ]
     },
     "execution_count": 14,
     "metadata": {},
     "output_type": "execute_result"
    }
   ],
   "source": [
    "#scalar\n",
    "scalar=torch.tensor(7)\n",
    "scalar.shape"
   ]
  },
  {
   "cell_type": "code",
   "execution_count": 16,
   "id": "abe410ca",
   "metadata": {},
   "outputs": [
    {
     "name": "stdout",
     "output_type": "stream",
     "text": [
      "1\n",
      "torch.Size([2])\n"
     ]
    }
   ],
   "source": [
    "#vector\n",
    "vector=torch.tensor([5,6])\n",
    "print(vector.ndim)\n",
    "print(vector.shape)"
   ]
  },
  {
   "cell_type": "code",
   "execution_count": 17,
   "id": "0815e9b1",
   "metadata": {},
   "outputs": [
    {
     "name": "stdout",
     "output_type": "stream",
     "text": [
      "2\n",
      "torch.Size([2, 2])\n"
     ]
    }
   ],
   "source": [
    "#matrix\n",
    "matrix=torch.tensor([[2,3],[4,5]])\n",
    "print(matrix.ndim)\n",
    "print(matrix.shape)"
   ]
  },
  {
   "cell_type": "code",
   "execution_count": 20,
   "id": "a1d06007",
   "metadata": {},
   "outputs": [
    {
     "name": "stdout",
     "output_type": "stream",
     "text": [
      "3\n",
      "torch.Size([1, 3, 3])\n",
      "tensor([[1, 2, 3],\n",
      "        [3, 4, 5],\n",
      "        [4, 5, 6]])\n"
     ]
    }
   ],
   "source": [
    "#tensor\n",
    "tensor=torch.tensor([[[1,2,3],[3,4,5],[4,5,6]]])\n",
    "print(tensor.ndim)\n",
    "print(tensor.shape)\n",
    "print(tensor[0])"
   ]
  },
  {
   "cell_type": "code",
   "execution_count": 24,
   "id": "be2dd0f9",
   "metadata": {},
   "outputs": [
    {
     "name": "stdout",
     "output_type": "stream",
     "text": [
      "tensor([0, 0, 0, 0, 0, 0, 0, 0, 0, 0])\n"
     ]
    }
   ],
   "source": [
    "#creating range of tensors and tensors like\n",
    "one_to_ten=torch.arange(start=1,end=11)\n",
    "ten_zeroes=torch.zeros_like(input=one_to_ten)\n",
    "print(ten_zeroes)"
   ]
  },
  {
   "cell_type": "code",
   "execution_count": 38,
   "id": "38d2d92c",
   "metadata": {},
   "outputs": [
    {
     "data": {
      "text/plain": [
       "tensor([[0., 0., 0., 0.],\n",
       "        [0., 0., 0., 0.],\n",
       "        [0., 0., 0., 0.]])"
      ]
     },
     "execution_count": 38,
     "metadata": {},
     "output_type": "execute_result"
    }
   ],
   "source": [
    "zeroes=torch.zeros([3,4])\n",
    "zeroes"
   ]
  },
  {
   "cell_type": "code",
   "execution_count": 27,
   "id": "496693d6",
   "metadata": {},
   "outputs": [
    {
     "data": {
      "text/plain": [
       "tensor([[1., 1.],\n",
       "        [1., 1.]])"
      ]
     },
     "execution_count": 27,
     "metadata": {},
     "output_type": "execute_result"
    }
   ],
   "source": [
    "ones=torch.ones(size=(2,2))\n",
    "ones"
   ]
  },
  {
   "cell_type": "code",
   "execution_count": 28,
   "id": "a503a91e",
   "metadata": {},
   "outputs": [
    {
     "data": {
      "text/plain": [
       "torch.float32"
      ]
     },
     "execution_count": 28,
     "metadata": {},
     "output_type": "execute_result"
    }
   ],
   "source": [
    "ones.dtype"
   ]
  },
  {
   "cell_type": "code",
   "execution_count": 32,
   "id": "cbd7c42e",
   "metadata": {},
   "outputs": [
    {
     "data": {
      "text/plain": [
       "tensor([1, 1, 1, 1, 1])"
      ]
     },
     "execution_count": 32,
     "metadata": {},
     "output_type": "execute_result"
    }
   ],
   "source": [
    "one_to_ten=torch.arange(start=1,end=11,step=2)\n",
    "ones=torch.ones_like(input=one_to_ten)\n",
    "ones"
   ]
  },
  {
   "cell_type": "code",
   "execution_count": 39,
   "id": "1d77a0c4",
   "metadata": {},
   "outputs": [
    {
     "data": {
      "text/plain": [
       "tensor([[0, 0, 0, 0],\n",
       "        [0, 0, 0, 0]], dtype=torch.int32)"
      ]
     },
     "execution_count": 39,
     "metadata": {},
     "output_type": "execute_result"
    }
   ],
   "source": [
    "var1=torch.zeros(size=(2,4),dtype=torch.int32)\n",
    "var1"
   ]
  },
  {
   "cell_type": "code",
   "execution_count": 40,
   "id": "6731154f",
   "metadata": {},
   "outputs": [
    {
     "data": {
      "text/plain": [
       "device(type='cuda', index=0)"
      ]
     },
     "execution_count": 40,
     "metadata": {},
     "output_type": "execute_result"
    }
   ],
   "source": [
    "cuda0=torch.device('cuda:0')\n",
    "cuda0"
   ]
  },
  {
   "cell_type": "code",
   "execution_count": 44,
   "id": "10f8ad9e",
   "metadata": {},
   "outputs": [
    {
     "name": "stdout",
     "output_type": "stream",
     "text": [
      "tensor(3)\n",
      "tensor([1, 2, 3])\n",
      "tensor(6)\n"
     ]
    }
   ],
   "source": [
    "x=torch.tensor([[1,2,3],[4,5,6]])\n",
    "print(x[0][2])\n",
    "print(x[0])\n",
    "print(x[1][2])"
   ]
  },
  {
   "cell_type": "code",
   "execution_count": 50,
   "id": "4fc41a5f",
   "metadata": {},
   "outputs": [
    {
     "name": "stdout",
     "output_type": "stream",
     "text": [
      "2\n",
      "torch.Size([1, 1])\n",
      "tensor([1])\n",
      "1\n"
     ]
    }
   ],
   "source": [
    "x=torch.tensor([[1]])\n",
    "print(x.ndim)\n",
    "print(x.shape)\n",
    "print(x[0])\n",
    "print(x.item())"
   ]
  },
  {
   "cell_type": "code",
   "execution_count": 61,
   "id": "14f8a2e9",
   "metadata": {},
   "outputs": [
    {
     "name": "stdout",
     "output_type": "stream",
     "text": [
      "torch.Size([3])\n",
      "cpu\n",
      "True\n",
      "torch.float32\n"
     ]
    }
   ],
   "source": [
    "tensor=torch.tensor([3,6,8],dtype=torch.float32,device=None,requires_grad=True)\n",
    "print(tensor.shape)\n",
    "print(tensor.device)\n",
    "print(tensor.requires_grad)\n",
    "print(tensor.dtype)"
   ]
  },
  {
   "cell_type": "code",
   "execution_count": 64,
   "id": "2b24bbad",
   "metadata": {},
   "outputs": [
    {
     "name": "stdout",
     "output_type": "stream",
     "text": [
      "shape of tensor is :torch.Size([3, 4])\n",
      "data type of tensor is :torch.float32\n"
     ]
    }
   ],
   "source": [
    "tensor=torch.rand(3,4)\n",
    "print(f\"shape of tensor is :{tensor.shape}\")\n",
    "print(f\"data type of tensor is :{tensor.dtype}\")"
   ]
  },
  {
   "cell_type": "code",
   "execution_count": 70,
   "id": "0c7b2b84",
   "metadata": {},
   "outputs": [
    {
     "data": {
      "text/plain": [
       "tensor([1, 2, 3])"
      ]
     },
     "execution_count": 70,
     "metadata": {},
     "output_type": "execute_result"
    }
   ],
   "source": [
    "tensor=torch.tensor([1,2,3])\n",
    "tensor-=10\n",
    "tensor+=10\n",
    "tensor"
   ]
  },
  {
   "cell_type": "code",
   "execution_count": 74,
   "id": "80b6c215",
   "metadata": {},
   "outputs": [
    {
     "name": "stdout",
     "output_type": "stream",
     "text": [
      "tensor(14)\n",
      "tensor([1, 4, 9])\n"
     ]
    }
   ],
   "source": [
    "tensor=torch.tensor([1,2,3])\n",
    "print(tensor@tensor)\n",
    "print(tensor*tensor)"
   ]
  },
  {
   "cell_type": "code",
   "execution_count": 76,
   "id": "7e043425",
   "metadata": {},
   "outputs": [
    {
     "name": "stdout",
     "output_type": "stream",
     "text": [
      "tensor([[ 27,  30,  33],\n",
      "        [ 61,  68,  75],\n",
      "        [ 95, 106, 117]])\n"
     ]
    }
   ],
   "source": [
    "tensorA=torch.tensor([[1,2],[3,4],[5,6]])\n",
    "tensorB=torch.tensor([[7,10],[8,11],[9,12]])\n",
    "print(torch.matmul(tensorA,tensorB.T))"
   ]
  },
  {
   "cell_type": "code",
   "execution_count": 85,
   "id": "a31558d1",
   "metadata": {},
   "outputs": [
    {
     "name": "stdout",
     "output_type": "stream",
     "text": [
      "minimum value:0\n",
      "maximum value:90\n",
      "mean value:45.0\n",
      "sum value:450\n",
      "maximum value at:9\n",
      "minimum value at:0\n"
     ]
    }
   ],
   "source": [
    "#aggregate functions\n",
    "x=torch.arange(0,100,10)\n",
    "print(f\"minimum value:{x.min()}\")\n",
    "print(f\"maximum value:{x.max()}\")\n",
    "print(f\"mean value:{x.type(torch.float).mean()}\")\n",
    "print(f\"sum value:{x.sum()}\")\n",
    "print(f\"maximum value at:{x.argmax()}\")\n",
    "print(f\"minimum value at:{x.argmin()}\")"
   ]
  },
  {
   "cell_type": "code",
   "execution_count": 90,
   "id": "354d17bb",
   "metadata": {},
   "outputs": [
    {
     "name": "stdout",
     "output_type": "stream",
     "text": [
      "tensor([[1, 2, 3, 4, 5, 6, 7]])\n",
      "tensor([[1, 2, 3, 4, 5, 6, 7]])\n",
      "tensor([8, 2, 3, 4, 5, 6, 7])\n"
     ]
    }
   ],
   "source": [
    "#reshaping,stacking,squeezing,unsqueezing\n",
    "x=torch.arange(1,8)\n",
    "#reshaping\n",
    "x_reshape=x.reshape(1,7)\n",
    "print(x_reshape)\n",
    "#view\n",
    "z=x.view(1,7)\n",
    "print(z)\n",
    "z[:,0]=8\n",
    "print(x)#here in x 0th index change"
   ]
  },
  {
   "cell_type": "code",
   "execution_count": 92,
   "id": "520cff23",
   "metadata": {},
   "outputs": [
    {
     "data": {
      "text/plain": [
       "tensor([[8, 8, 8, 8],\n",
       "        [2, 2, 2, 2],\n",
       "        [3, 3, 3, 3],\n",
       "        [4, 4, 4, 4],\n",
       "        [5, 5, 5, 5],\n",
       "        [6, 6, 6, 6],\n",
       "        [7, 7, 7, 7]])"
      ]
     },
     "execution_count": 92,
     "metadata": {},
     "output_type": "execute_result"
    }
   ],
   "source": [
    "#stacking\n",
    "x_stacked=torch.stack([x,x,x,x],dim=1)\n",
    "x_stacked"
   ]
  },
  {
   "cell_type": "code",
   "execution_count": 94,
   "id": "34ee2980",
   "metadata": {},
   "outputs": [
    {
     "name": "stdout",
     "output_type": "stream",
     "text": [
      "tensor([[8, 2, 3, 4, 5, 6, 7]])\n"
     ]
    },
    {
     "data": {
      "text/plain": [
       "tensor([8, 2, 3, 4, 5, 6, 7])"
      ]
     },
     "execution_count": 94,
     "metadata": {},
     "output_type": "execute_result"
    }
   ],
   "source": [
    "print(x_reshape)\n",
    "x_squeeze=x_reshape.squeeze()\n",
    "x_squeeze"
   ]
  },
  {
   "cell_type": "code",
   "execution_count": 114,
   "id": "3c149d1d",
   "metadata": {},
   "outputs": [
    {
     "data": {
      "text/plain": [
       "tensor([[8, 2, 3, 4, 5, 6, 7]])"
      ]
     },
     "execution_count": 114,
     "metadata": {},
     "output_type": "execute_result"
    }
   ],
   "source": [
    "x_unsqueeze=x_squeeze.unsqueeze(dim=0)\n",
    "x_unsqueeze"
   ]
  },
  {
   "cell_type": "code",
   "execution_count": 117,
   "id": "a7420e8a",
   "metadata": {},
   "outputs": [
    {
     "data": {
      "text/plain": [
       "torch.Size([3, 224, 224])"
      ]
     },
     "execution_count": 117,
     "metadata": {},
     "output_type": "execute_result"
    }
   ],
   "source": [
    "x=torch.rand(size=(224,224,3))\n",
    "y=torch.permute(x,(2,0,1))\n",
    "y.shape\n"
   ]
  },
  {
   "cell_type": "code",
   "execution_count": 122,
   "id": "f9ae6ea9",
   "metadata": {},
   "outputs": [
    {
     "data": {
      "text/plain": [
       "tensor([[[1, 2, 3],\n",
       "         [4, 5, 6],\n",
       "         [7, 8, 9]]])"
      ]
     },
     "execution_count": 122,
     "metadata": {},
     "output_type": "execute_result"
    }
   ],
   "source": [
    "#indexing\n",
    "x=torch.arange(1,10).reshape(1,3,3)\n",
    "x"
   ]
  },
  {
   "cell_type": "code",
   "execution_count": 123,
   "id": "61be8c3e",
   "metadata": {},
   "outputs": [
    {
     "data": {
      "text/plain": [
       "tensor(1)"
      ]
     },
     "execution_count": 123,
     "metadata": {},
     "output_type": "execute_result"
    }
   ],
   "source": [
    "x[0][0][0]"
   ]
  },
  {
   "cell_type": "code",
   "execution_count": 124,
   "id": "56eac819",
   "metadata": {},
   "outputs": [
    {
     "data": {
      "text/plain": [
       "tensor([1, 2, 3])"
      ]
     },
     "execution_count": 124,
     "metadata": {},
     "output_type": "execute_result"
    }
   ],
   "source": [
    "x[0,0]"
   ]
  },
  {
   "cell_type": "code",
   "execution_count": 128,
   "id": "a7959145",
   "metadata": {},
   "outputs": [
    {
     "data": {
      "text/plain": [
       "tensor([[2, 5, 8]])"
      ]
     },
     "execution_count": 128,
     "metadata": {},
     "output_type": "execute_result"
    }
   ],
   "source": [
    "x[:,:,1]"
   ]
  },
  {
   "cell_type": "code",
   "execution_count": 134,
   "id": "7b6ad505",
   "metadata": {},
   "outputs": [
    {
     "name": "stdout",
     "output_type": "stream",
     "text": [
      "[1. 2. 3. 4. 5. 6. 7.]\n",
      "tensor([1., 2., 3., 4., 5., 6., 7.])\n",
      "torch.float32\n",
      "float64\n"
     ]
    }
   ],
   "source": [
    "import numpy as np\n",
    "array=np.arange(1.0,8.0)\n",
    "tensor=torch.from_numpy(array).type(torch.float32)\n",
    "print(array)\n",
    "print(tensor)\n",
    "print(tensor.dtype)\n",
    "print(array.dtype)"
   ]
  },
  {
   "cell_type": "code",
   "execution_count": 135,
   "id": "2135b604",
   "metadata": {},
   "outputs": [
    {
     "data": {
      "text/plain": [
       "(tensor([1., 1., 1., 1., 1., 1., 1.]),\n",
       " array([1., 1., 1., 1., 1., 1., 1.], dtype=float32))"
      ]
     },
     "execution_count": 135,
     "metadata": {},
     "output_type": "execute_result"
    }
   ],
   "source": [
    "tensor=torch.ones(7)\n",
    "array=tensor.numpy()\n",
    "tensor,array"
   ]
  },
  {
   "cell_type": "code",
   "execution_count": 140,
   "id": "1fa2c916",
   "metadata": {},
   "outputs": [
    {
     "name": "stdout",
     "output_type": "stream",
     "text": [
      "tensor([[0.8823, 0.9150, 0.3829],\n",
      "        [0.9593, 0.3904, 0.6009]])\n",
      "tensor([[0.8823, 0.9150, 0.3829],\n",
      "        [0.9593, 0.3904, 0.6009]])\n",
      "tensor([[True, True, True],\n",
      "        [True, True, True]])\n"
     ]
    }
   ],
   "source": [
    "#reproducibility\n",
    "import random\n",
    "random_seed=42\n",
    "torch.manual_seed(seed=random_seed)\n",
    "tensorA=torch.rand(2,3)\n",
    "torch.manual_seed(seed=random_seed)\n",
    "tensorB=torch.rand(2,3)\n",
    "print(tensorA)\n",
    "print(tensorB)\n",
    "print(tensorA==tensorB)\n"
   ]
  },
  {
   "cell_type": "code",
   "execution_count": 8,
   "id": "3f973410",
   "metadata": {},
   "outputs": [
    {
     "data": {
      "text/plain": [
       "(tensor([0.0000, 0.0200, 0.0400, 0.0600, 0.0800, 0.1000, 0.1200, 0.1400, 0.1600,\n",
       "         0.1800]),\n",
       " tensor([0.3000, 0.3140, 0.3280, 0.3420, 0.3560, 0.3700, 0.3840, 0.3980, 0.4120,\n",
       "         0.4260]))"
      ]
     },
     "execution_count": 8,
     "metadata": {},
     "output_type": "execute_result"
    }
   ],
   "source": [
    "weight=0.7\n",
    "bias=0.3\n",
    "start=0\n",
    "end=1\n",
    "step=0.02\n",
    "X=torch.arange(start,end,step)\n",
    "\n",
    "y=weight*X+bias\n",
    "X[:10],y[:10]\n"
   ]
  },
  {
   "cell_type": "code",
   "execution_count": 67,
   "id": "60245afb",
   "metadata": {},
   "outputs": [
    {
     "data": {
      "text/plain": [
       "(40, 10, 40, 10)"
      ]
     },
     "execution_count": 67,
     "metadata": {},
     "output_type": "execute_result"
    }
   ],
   "source": [
    "#training and testing \n",
    "train_split=int(0.8*len(X))\n",
    "x_train,y_train=X[:train_split],y[:train_split]\n",
    "x_test,y_test=X[train_split:],y[train_split:]\n",
    "len(x_train),len(x_test),len(y_train),len(y_test)"
   ]
  },
  {
   "cell_type": "code",
   "execution_count": 111,
   "id": "9be56e91",
   "metadata": {},
   "outputs": [],
   "source": [
    "import matplotlib.pyplot as plt\n",
    "def plot_predictions(train_data=x_train, \n",
    "                     train_labels=y_train, \n",
    "                     test_data=x_test, \n",
    "                     test_labels=y_test, \n",
    "                     predictions=None):\n",
    "  \"\"\"\n",
    "  Plots training data, test data and compares predictions.\n",
    "  \"\"\"\n",
    "  plt.figure(figsize=(10, 7))\n",
    "\n",
    "  # Plot training data in blue\n",
    "  plt.scatter(train_data, train_labels, c=\"b\", s=4, label=\"Training data\")\n",
    "  \n",
    "  # Plot test data in green\n",
    "  plt.scatter(test_data, test_labels, c=\"g\", s=4, label=\"Testing data\")\n",
    "\n",
    "  if predictions is not None:\n",
    "    # Plot the predictions in red (predictions were made on the test data)\n",
    "    plt.scatter(test_data, predictions, c=\"r\", s=4, label=\"Predictions\")\n",
    "\n",
    "  # Show the legend\n",
    "  plt.legend(prop={\"size\": 14});"
   ]
  },
  {
   "cell_type": "code",
   "execution_count": 112,
   "id": "df1db2f9",
   "metadata": {},
   "outputs": [
    {
     "data": {
      "image/png": "[encoded data removed]",
      "text/plain": [
       "<Figure size 720x504 with 1 Axes>"
      ]
     },
     "metadata": {
      "needs_background": "light"
     },
     "output_type": "display_data"
    }
   ],
   "source": [
    "plot_predictions();"
   ]
  },
  {
   "cell_type": "code",
   "execution_count": 70,
   "id": "08b12867",
   "metadata": {},
   "outputs": [
    {
     "name": "stdout",
     "output_type": "stream",
     "text": [
      "tensor([0.2345])\n"
     ]
    }
   ],
   "source": [
    "import torch\n",
    "print(torch.randn(1))"
   ]
  },
  {
   "cell_type": "code",
   "execution_count": 127,
   "id": "51d75ab8",
   "metadata": {},
   "outputs": [],
   "source": [
    "from torch import nn\n",
    "# Create a Linear Regression model class\n",
    "class LinearRegressionModel(nn.Module): # <- almost everything in PyTorch is a nn.Module (think of this as neural network lego blocks)\n",
    "    def __init__(self):\n",
    "        super().__init__() \n",
    "        self.weights = nn.Parameter(torch.randn(1, # <- start with random weights (this will get adjusted as the model learns)\n",
    "                                                dtype=torch.float), # <- PyTorch loves float32 by default\n",
    "                                   requires_grad=True) # <- can we update this value with gradient descent?)\n",
    "\n",
    "        self.bias = nn.Parameter(torch.randn(1, # <- start with random bias (this will get adjusted as the model learns)\n",
    "                                            dtype=torch.float), # <- PyTorch loves float32 by default\n",
    "                                requires_grad=True) # <- can we update this value with gradient descent?))\n",
    "\n",
    "    # Forward defines the computation in the model\n",
    "    def forward(self, x: torch.Tensor) -> torch.Tensor: # <- \"x\" is the input data (e.g. training/testing features)\n",
    "        return self.weights * x + self.bias # <- this is the linear regression formula (y = m*x + b)"
   ]
  },
  {
   "cell_type": "code",
   "execution_count": 145,
   "id": "7d4fd30d",
   "metadata": {},
   "outputs": [
    {
     "data": {
      "text/plain": [
       "[Parameter containing:\n",
       " tensor([0.3367], requires_grad=True),\n",
       " Parameter containing:\n",
       " tensor([0.1288], requires_grad=True)]"
      ]
     },
     "execution_count": 145,
     "metadata": {},
     "output_type": "execute_result"
    }
   ],
   "source": [
    "torch.manual_seed(42)\n",
    "model_0=LinearRegressionModel()\n",
    "list(model_0.parameters())\n"
   ]
  },
  {
   "cell_type": "code",
   "execution_count": 146,
   "id": "87150388",
   "metadata": {},
   "outputs": [
    {
     "data": {
      "text/plain": [
       "OrderedDict([('weights', tensor([0.3367])), ('bias', tensor([0.1288]))])"
      ]
     },
     "execution_count": 146,
     "metadata": {},
     "output_type": "execute_result"
    }
   ],
   "source": [
    "model_0.state_dict()"
   ]
  },
  {
   "cell_type": "code",
   "execution_count": 147,
   "id": "8e846fb2",
   "metadata": {},
   "outputs": [
    {
     "data": {
      "text/plain": [
       "tensor([0.3982, 0.4049, 0.4116, 0.4184, 0.4251, 0.4318, 0.4386, 0.4453, 0.4520,\n",
       "        0.4588], grad_fn=<AddBackward0>)"
      ]
     },
     "execution_count": 147,
     "metadata": {},
     "output_type": "execute_result"
    }
   ],
   "source": [
    "y_pred=model_0(x_test)\n",
    "y_pred"
   ]
  },
  {
   "cell_type": "code",
   "execution_count": 149,
   "id": "fa14b1a0",
   "metadata": {},
   "outputs": [
    {
     "data": {
      "text/plain": [
       "tensor([0.3982, 0.4049, 0.4116, 0.4184, 0.4251, 0.4318, 0.4386, 0.4453, 0.4520,\n",
       "        0.4588])"
      ]
     },
     "execution_count": 149,
     "metadata": {},
     "output_type": "execute_result"
    }
   ],
   "source": [
    "with torch.inference_mode():\n",
    "    y_pred=model_0(x_test)\n",
    "y_pred"
   ]
  },
  {
   "cell_type": "code",
   "execution_count": 150,
   "id": "abcccdb5",
   "metadata": {},
   "outputs": [
    {
     "data": {
      "image/png": "[encoded data removed]",
      "text/plain": [
       "<Figure size 720x504 with 1 Axes>"
      ]
     },
     "metadata": {
      "needs_background": "light"
     },
     "output_type": "display_data"
    }
   ],
   "source": [
    "plot_predictions(predictions=y_pred)"
   ]
  },
  {
   "cell_type": "code",
   "execution_count": 77,
   "id": "79d34da3",
   "metadata": {},
   "outputs": [
    {
     "data": {
      "text/plain": [
       "tensor(0.4945)"
      ]
     },
     "execution_count": 77,
     "metadata": {},
     "output_type": "execute_result"
    }
   ],
   "source": [
    "torch.mean(torch.abs(y_pred-y_test))"
   ]
  },
  {
   "cell_type": "code",
   "execution_count": 151,
   "id": "0494769d",
   "metadata": {},
   "outputs": [],
   "source": [
    "from torch import nn\n",
    "loss_fn=nn.L1Loss()\n",
    "optimizer=torch.optim.SGD(params=model_0.parameters(),lr=0.01)\n"
   ]
  },
  {
   "cell_type": "code",
   "execution_count": 135,
   "id": "d6058cbe",
   "metadata": {},
   "outputs": [],
   "source": [
    "with torch.no_grad():\n",
    "    list(model_0.parameters())"
   ]
  },
  {
   "cell_type": "code",
   "execution_count": 152,
   "id": "a2365704",
   "metadata": {},
   "outputs": [
    {
     "data": {
      "text/plain": [
       "[Parameter containing:\n",
       " tensor([0.3367], requires_grad=True),\n",
       " Parameter containing:\n",
       " tensor([0.1288], requires_grad=True)]"
      ]
     },
     "execution_count": 152,
     "metadata": {},
     "output_type": "execute_result"
    }
   ],
   "source": [
    "\n",
    "list(model_0.parameters())"
   ]
  },
  {
   "cell_type": "code",
   "execution_count": 153,
   "id": "423faa27",
   "metadata": {},
   "outputs": [
    {
     "name": "stdout",
     "output_type": "stream",
     "text": [
      "epoch:0|Loss:0.31288138031959534|Test_loss=0.48106518387794495\n",
      "OrderedDict([('weights', tensor([0.3406])), ('bias', tensor([0.1388]))])\n",
      "epoch:10|Loss:0.1976713240146637|Test_loss=0.3463551998138428\n",
      "OrderedDict([('weights', tensor([0.3796])), ('bias', tensor([0.2388]))])\n",
      "epoch:20|Loss:0.08908725529909134|Test_loss=0.21729660034179688\n",
      "OrderedDict([('weights', tensor([0.4184])), ('bias', tensor([0.3333]))])\n",
      "epoch:30|Loss:0.053148526698350906|Test_loss=0.14464017748832703\n",
      "OrderedDict([('weights', tensor([0.4512])), ('bias', tensor([0.3768]))])\n",
      "epoch:40|Loss:0.04543796554207802|Test_loss=0.11360953003168106\n",
      "OrderedDict([('weights', tensor([0.4748])), ('bias', tensor([0.3868]))])\n",
      "epoch:50|Loss:0.04167863354086876|Test_loss=0.09919948130846024\n",
      "OrderedDict([('weights', tensor([0.4938])), ('bias', tensor([0.3843]))])\n",
      "epoch:60|Loss:0.03818932920694351|Test_loss=0.08886633068323135\n",
      "OrderedDict([('weights', tensor([0.5116])), ('bias', tensor([0.3788]))])\n",
      "epoch:70|Loss:0.03476089984178543|Test_loss=0.0805937647819519\n",
      "OrderedDict([('weights', tensor([0.5288])), ('bias', tensor([0.3718]))])\n"
     ]
    }
   ],
   "source": [
    "torch.manual_seed(42)\n",
    "epochs=80\n",
    "#track different values\n",
    "epoch_count=[]\n",
    "loss_values=[]\n",
    "test_loss_values=[]\n",
    "for epoch in range(epochs):\n",
    "    model_0.train()\n",
    "    y_pred=model_0(x_train)\n",
    "    loss=loss_fn(y_pred,y_train)#input,target\n",
    "    optimizer.zero_grad()\n",
    "    loss.backward()\n",
    "    optimizer.step()\n",
    "    model_0.eval()\n",
    "    with torch.inference_mode():\n",
    "        test_pred=model_0(x_test)\n",
    "        test_loss=loss_fn(test_pred,y_test)\n",
    "    if epoch%10==0:\n",
    "        epoch_count.append(epoch)\n",
    "        loss_values.append(loss)\n",
    "        test_loss_values.append(test_loss)\n",
    "        print(f\"epoch:{epoch}|Loss:{loss}|Test_loss={test_loss}\")\n",
    "        print(model_0.state_dict())\n",
    "\n"
   ]
  },
  {
   "cell_type": "code",
   "execution_count": 157,
   "id": "666fd455",
   "metadata": {},
   "outputs": [
    {
     "data": {
      "text/plain": [
       "[tensor(0.3129, grad_fn=<MeanBackward0>),\n",
       " tensor(0.1977, grad_fn=<MeanBackward0>),\n",
       " tensor(0.0891, grad_fn=<MeanBackward0>),\n",
       " tensor(0.0531, grad_fn=<MeanBackward0>),\n",
       " tensor(0.0454, grad_fn=<MeanBackward0>),\n",
       " tensor(0.0417, grad_fn=<MeanBackward0>),\n",
       " tensor(0.0382, grad_fn=<MeanBackward0>),\n",
       " tensor(0.0348, grad_fn=<MeanBackward0>)]"
      ]
     },
     "execution_count": 157,
     "metadata": {},
     "output_type": "execute_result"
    }
   ],
   "source": [
    "loss_values"
   ]
  },
  {
   "cell_type": "code",
   "execution_count": 161,
   "id": "ec3d4b59",
   "metadata": {},
   "outputs": [
    {
     "data": {
      "text/plain": [
       "array([0.31288138, 0.19767132, 0.08908726, 0.05314853, 0.04543797,\n",
       "       0.04167863, 0.03818933, 0.0347609 ], dtype=float32)"
      ]
     },
     "execution_count": 161,
     "metadata": {},
     "output_type": "execute_result"
    }
   ],
   "source": [
    "import numpy as np\n",
    "np.array(torch.tensor(loss_values).numpy())"
   ]
  },
  {
   "cell_type": "code",
   "execution_count": 164,
   "id": "0484141f",
   "metadata": {},
   "outputs": [
    {
     "data": {
      "image/png": "[encoded data removed]",
      "text/plain": [
       "<Figure size 432x288 with 1 Axes>"
      ]
     },
     "metadata": {
      "needs_background": "light"
     },
     "output_type": "display_data"
    }
   ],
   "source": [
    "import matplotlib.pyplot as plt\n",
    "plt.plot(epoch_count,np.array(torch.tensor(loss_values).numpy()),label=\"train loss\")\n",
    "plt.plot(epoch_count,test_loss_values,label=\"test loss\")\n",
    "plt.title('training and test loss curves')\n",
    "plt.ylabel('loss')\n",
    "plt.xlabel('epochs')\n",
    "plt.legend()\n",
    "plt.show()"
   ]
  },
  {
   "cell_type": "code",
   "execution_count": 107,
   "id": "31f10d81",
   "metadata": {},
   "outputs": [],
   "source": [
    "with torch.inference_mode():\n",
    "    y_preds_new=model_0(x_test)\n"
   ]
  },
  {
   "cell_type": "code",
   "execution_count": 108,
   "id": "bcbe3406",
   "metadata": {},
   "outputs": [
    {
     "data": {
      "image/png": "[encoded data removed]",
      "text/plain": [
       "<Figure size 720x504 with 1 Axes>"
      ]
     },
     "metadata": {
      "needs_background": "light"
     },
     "output_type": "display_data"
    }
   ],
   "source": [
    "plot_predictions(predictions=y_preds_new)"
   ]
  },
  {
   "cell_type": "code",
   "execution_count": 168,
   "id": "65dafdfb",
   "metadata": {},
   "outputs": [
    {
     "name": "stdout",
     "output_type": "stream",
     "text": [
      "saving model to model_save_path\n"
     ]
    }
   ],
   "source": [
    "from pathlib import Path\n",
    "#create model directory\n",
    "model_path=Path('models')\n",
    "model_path.mkdir(parents=True,exist_ok=True)\n",
    "#create model save path\n",
    "model_name=\"pytorch_workflow_model.pth\"\n",
    "model_save_path=model_path/model_name\n",
    "#save the model state dict\n",
    "print(f\"saving model to model_save_path\")\n",
    "torch.save(obj=model_0.state_dict(),f=model_save_path)\n"
   ]
  },
  {
   "cell_type": "code",
   "execution_count": 172,
   "id": "e4808de3",
   "metadata": {},
   "outputs": [
    {
     "name": "stdout",
     "output_type": "stream",
     "text": [
      "pytorch_workflow_model.pth\r\n"
     ]
    }
   ],
   "source": [
    "!ls -1 models"
   ]
  },
  {
   "cell_type": "code",
   "execution_count": 173,
   "id": "1304176b",
   "metadata": {},
   "outputs": [
    {
     "data": {
      "text/plain": [
       "OrderedDict([('weights', tensor([0.5441])), ('bias', tensor([0.3653]))])"
      ]
     },
     "execution_count": 173,
     "metadata": {},
     "output_type": "execute_result"
    }
   ],
   "source": [
    "#loading a model\n",
    "model_0.state_dict()"
   ]
  },
  {
   "cell_type": "code",
   "execution_count": 177,
   "id": "62a5f411",
   "metadata": {},
   "outputs": [
    {
     "name": "stderr",
     "output_type": "stream",
     "text": [
      "/tmp/ipykernel_13484/130891408.py:2: FutureWarning: You are using `torch.load` with `weights_only=False` (the current default value), which uses the default pickle module implicitly. It is possible to construct malicious pickle data which will execute arbitrary code during unpickling (See https://github.com/pytorch/pytorch/blob/main/SECURITY.md#untrusted-models for more details). In a future release, the default value for `weights_only` will be flipped to `True`. This limits the functions that could be executed during unpickling. Arbitrary objects will no longer be allowed to be loaded via this mode unless they are explicitly allowlisted by the user via `torch.serialization.add_safe_globals`. We recommend you start setting `weights_only=True` for any use case where you don't have full control of the loaded file. Please open an issue on GitHub for any issues related to this experimental feature.\n",
      "  load_model_0.load_state_dict(torch.load(f=\"/home/rgukt/models/pytorch_workflow_model.pth\"))\n"
     ]
    },
    {
     "data": {
      "text/plain": [
       "OrderedDict([('weights', tensor([0.5441])), ('bias', tensor([0.3653]))])"
      ]
     },
     "execution_count": 177,
     "metadata": {},
     "output_type": "execute_result"
    }
   ],
   "source": [
    "load_model_0=LinearRegressionModel()\n",
    "load_model_0.load_state_dict(torch.load(f=\"/home/rgukt/models/pytorch_workflow_model.pth\"))\n",
    "load_model_0.state_dict()"
   ]
  },
  {
   "cell_type": "code",
   "execution_count": 179,
   "id": "aee4b6e3",
   "metadata": {},
   "outputs": [
    {
     "data": {
      "text/plain": [
       "tensor([0.8006, 0.8115, 0.8224, 0.8333, 0.8441, 0.8550, 0.8659, 0.8768, 0.8877,\n",
       "        0.8985])"
      ]
     },
     "execution_count": 179,
     "metadata": {},
     "output_type": "execute_result"
    }
   ],
   "source": [
    "with torch.inference_mode():\n",
    "    load_pred=load_model_0(x_test)\n",
    "load_pred"
   ]
  },
  {
   "cell_type": "code",
   "execution_count": 180,
   "id": "9547b504",
   "metadata": {},
   "outputs": [
    {
     "data": {
      "text/plain": [
       "tensor([0.8006, 0.8115, 0.8224, 0.8333, 0.8441, 0.8550, 0.8659, 0.8768, 0.8877,\n",
       "        0.8985])"
      ]
     },
     "execution_count": 180,
     "metadata": {},
     "output_type": "execute_result"
    }
   ],
   "source": [
    "with torch.inference_mode():\n",
    "    y_pred=model_0(x_test)\n",
    "y_pred\n"
   ]
  },
  {
   "cell_type": "code",
   "execution_count": 181,
   "id": "9bd01a6f",
   "metadata": {},
   "outputs": [
    {
     "name": "stdout",
     "output_type": "stream",
     "text": [
      "tensor([True, True, True, True, True, True, True, True, True, True])\n"
     ]
    }
   ],
   "source": [
    "print(load_pred==y_pred)"
   ]
  },
  {
   "cell_type": "code",
   "execution_count": null,
   "id": "3cecc2fd",
   "metadata": {},
   "outputs": [],
   "source": []
  },
  {
   "cell_type": "code",
   "execution_count": null,
   "id": "779963db",
   "metadata": {},
   "outputs": [],
   "source": []
  },
  {
   "cell_type": "code",
   "execution_count": null,
   "id": "9ebea96d",
   "metadata": {},
   "outputs": [],
   "source": []
  },
  {
   "cell_type": "code",
   "execution_count": null,
   "id": "a3bb9cdb",
   "metadata": {},
   "outputs": [],
   "source": []
  },
  {
   "cell_type": "code",
   "execution_count": null,
   "id": "00c758e7",
   "metadata": {},
   "outputs": [],
   "source": []
  },
  {
   "cell_type": "code",
   "execution_count": null,
   "id": "6f9abd23",
   "metadata": {},
   "outputs": [],
   "source": []
  },
  {
   "cell_type": "code",
   "execution_count": null,
   "id": "1575a403",
   "metadata": {},
   "outputs": [],
   "source": []
  },
  {
   "cell_type": "code",
   "execution_count": null,
   "id": "de942c83",
   "metadata": {},
   "outputs": [],
   "source": []
  },
  {
   "cell_type": "code",
   "execution_count": null,
   "id": "069b0331",
   "metadata": {},
   "outputs": [],
   "source": []
  },
  {
   "cell_type": "code",
   "execution_count": null,
   "id": "ddd55c0f",
   "metadata": {},
   "outputs": [],
   "source": []
  },
  {
   "cell_type": "code",
   "execution_count": null,
   "id": "d72bac63",
   "metadata": {},
   "outputs": [],
   "source": []
  },
  {
   "cell_type": "code",
   "execution_count": null,
   "id": "9eb72126",
   "metadata": {},
   "outputs": [],
   "source": []
  }
 ],
 "metadata": {
  "kernelspec": {
   "display_name": "Python 3 (ipykernel)",
   "language": "python",
   "name": "python3"
  },
  "language_info": {
   "codemirror_mode": {
    "name": "ipython",
    "version": 3
   },
   "file_extension": ".py",
   "mimetype": "text/x-python",
   "name": "python",
   "nbconvert_exporter": "python",
   "pygments_lexer": "ipython3",
   "version": "3.9.12"
  }
 },
 "nbformat": 4,
 "nbformat_minor": 5
}
